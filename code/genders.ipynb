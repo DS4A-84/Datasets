{
 "cells": [
  {
   "cell_type": "code",
   "execution_count": 5,
   "metadata": {},
   "outputs": [],
   "source": [
    "\n",
    "import json, requests\n",
    "import string\n",
    "import re\n",
    "import gzip\n",
    "import shutil\n",
    "import urllib.request \n",
    "import pandas as pd\n",
    "# import imdbpy\n",
    "\n",
    "\n",
    "oscars = pd.read_csv(\"../data/clean_names.csv\")\n",
    "oscars.head()\n",
    "oscars['gender'] = ''\n",
    "\n",
    "# Adding\n",
    "oscars.loc[oscars['category'].str.contains(\"ACTOR\"), \"gender\"]='M'\n",
    "oscars.loc[oscars['category'].str.contains(\"ACTRESS\"), \"gender\"]='F'\n",
    "# oscars[oscars['category'].str.contains(\"ACTOR\")]\n",
    "oscars.head(10)\n",
    "\n",
    "men = oscars[oscars['category'].str.contains(\"ACTOR\")]\n",
    "men\n",
    "women = oscars[oscars['category'].str.contains(\"ACTRESS\")]\n",
    "women\n",
    "# pd.write_csv(\"\")\n",
    "men.to_csv('../data/actors.csv', index=False)\n",
    "women.to_csv('../data/actresses.csv', index=False)"
   ]
  }
 ],
 "metadata": {
  "kernelspec": {
   "display_name": "Python 3",
   "language": "python",
   "name": "python3"
  },
  "language_info": {
   "codemirror_mode": {
    "name": "ipython",
    "version": 3
   },
   "file_extension": ".py",
   "mimetype": "text/x-python",
   "name": "python",
   "nbconvert_exporter": "python",
   "pygments_lexer": "ipython3",
   "version": "3.6.8"
  }
 },
 "nbformat": 4,
 "nbformat_minor": 2
}
